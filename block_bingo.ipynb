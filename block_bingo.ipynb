{
 "cells": [
  {
   "cell_type": "markdown",
   "metadata": {},
   "source": [
    "## ビンゴブロックエリアとルールを元にした情報"
   ]
  },
  {
   "cell_type": "code",
   "execution_count": 25,
   "metadata": {},
   "outputs": [],
   "source": [
    "INF = 10000000\n",
    "\n",
    "yel = 'yellow'\n",
    "gre = 'green'\n",
    "blu = 'blue'\n",
    "red = 'red'\n",
    "bla = 'black'\n",
    "\n",
    "blocks_color = [yel, yel, gre, gre,  blu, blu,  red, red, bla]\n",
    "\n",
    "block_bingo_area = [\n",
    "    (0, 0), (0, 1), (0, 2), (0, 3), (0, 4), (0, 5), (0, 6),\n",
    "    (1, 0), (1, 1), (1, 2), (1, 3), (1, 4), (1, 5), (1, 6),\n",
    "    (2, 0), (2, 1), (2, 2), (2, 3), (2, 4), (2, 5), (2, 6),\n",
    "    (3, 0), (3, 1), (3, 2), (3, 3), (3, 4), (3, 5), (3, 6),\n",
    "    (4, 0), (4, 1), (4, 2), (4, 3), (4, 4), (4, 5), (4, 6),\n",
    "    (5, 0), (5, 1), (5, 2), (5, 3), (5, 4), (5, 5), (5, 6),\n",
    "    (6, 0), (6, 1), (6, 2), (6, 3), (6, 4), (6, 5), (6, 6)]\n",
    "\n",
    "crosscircle_position = [\n",
    "    (0, 0), (0, 2), (0, 4), (0, 6),\n",
    "    (2, 0), (2, 2), (2, 4), (2, 6),\n",
    "    (4, 0), (4, 2), (4, 4), (4, 6),\n",
    "    (6, 0), (6, 2), (6, 4), (6, 6)\n",
    "]\n",
    "\n",
    "blockcircle_position = [\n",
    "    (1,1), (1,3), (1,5), (3,1), (3,5), (5,1), (5,3), (5,5)\n",
    "]\n",
    "\n",
    "first_set_block_position = [\n",
    "    (0,0), (2,2), (4,0), (6,2), (0,4), (2,6), (4,4), (6,6)\n",
    "]\n",
    "\n",
    "first_set_colorblock_number = 4\n",
    "first_set_blackblock_number = 6 \n",
    "\n"
   ]
  },
  {
   "cell_type": "markdown",
   "metadata": {},
   "source": [
    "## 仮想ビングブロックエリアの初期化"
   ]
  },
  {
   "cell_type": "code",
   "execution_count": 28,
   "metadata": {
    "code_folding": []
   },
   "outputs": [],
   "source": [
    "# ダイクストラ法 Left\n",
    "\n",
    "import networkx as nx # 経路探索用\n",
    "import random #組み合わせよう\n",
    "random.seed(42)\n",
    "\n",
    "Graph = nx.DiGraph()\n",
    "\n",
    "# ブロックビンゴエリアの必要な情報を仮想ビンゴブロックエリアに追加していく\n",
    "Graph.add_nodes_from(block_bingo_area)\n",
    "\n",
    "for blockcircle_num, position in enumerate(blockcircle_position, start=1):\n",
    "    Graph.nodes[position]['set_block'] = False\n",
    "    Graph.nodes[position]['blockcircle_number'] = blockcircle_num\n",
    "    if position in {(1,1), (3,5)}:\n",
    "        Graph.nodes[position]['set_blockcircle_color'] = yel\n",
    "    elif position in {(1,3), (5,1)}:\n",
    "         Graph.nodes[position]['set_blockcircle_color'] = gre\n",
    "    elif position in {(1,5), (5,3)}:\n",
    "         Graph.nodes[position]['set_blockcircle_color'] = red\n",
    "    elif position in {(3,1), (5,5)}:\n",
    "         Graph.nodes[position]['set_blockcircle_color'] = blu\n",
    "    \n",
    "    if blockcircle_num == first_set_colorblock_number:\n",
    "        Graph.nodes[position]['set_block'] = True\n",
    "        Graph.nodes[position]['set_blockcolor'] =  Graph.nodes[position]['set_blockcircle_color']\n",
    "        \n",
    "    if blockcircle_num == first_set_blackblock_number:\n",
    "        Graph.nodes[position]['set_block'] = True\n",
    "        Graph.nodes[position]['set_blockcolor'] = bla\n",
    "\n",
    "colorblock = Graph.nodes[blockcircle_position[first_set_colorblock_number-1]]['set_blockcircle_color']\n",
    "crosscircle_blockcolors = random.sample(blocks_color, 8)\n",
    "\n",
    "for color, position in enumerate(first_set_block_position, start=0):\n",
    "    Graph.nodes[position]['set_block'] = True\n",
    "    Graph.nodes[position]['set_blockcolor'] = crosscircle_blockcolors[color]"
   ]
  },
  {
   "cell_type": "code",
   "execution_count": 29,
   "metadata": {
    "scrolled": true
   },
   "outputs": [
    {
     "name": "stdout",
     "output_type": "stream",
     "text": [
      "((0, 0), {'set_block': True, 'set_blockcolor': 'yellow'})\n",
      "((0, 1), {})\n",
      "((0, 2), {})\n",
      "((0, 3), {})\n",
      "((0, 4), {'set_block': True, 'set_blockcolor': 'black'})\n",
      "((0, 5), {})\n",
      "((0, 6), {})\n",
      "((1, 0), {})\n",
      "((1, 1), {'set_block': False, 'blockcircle_number': 1, 'set_blockcircle_color': 'yellow'})\n",
      "((1, 2), {})\n",
      "((1, 3), {'set_block': False, 'blockcircle_number': 2, 'set_blockcircle_color': 'green'})\n",
      "((1, 4), {})\n",
      "((1, 5), {'set_block': False, 'blockcircle_number': 3, 'set_blockcircle_color': 'red'})\n",
      "((1, 6), {})\n",
      "((2, 0), {})\n",
      "((2, 1), {})\n",
      "((2, 2), {'set_block': True, 'set_blockcolor': 'yellow'})\n",
      "((2, 3), {})\n",
      "((2, 4), {})\n",
      "((2, 5), {})\n",
      "((2, 6), {'set_block': True, 'set_blockcolor': 'blue'})\n",
      "((3, 0), {})\n",
      "((3, 1), {'set_block': True, 'blockcircle_number': 4, 'set_blockcircle_color': 'blue', 'set_blockcolor': 'blue'})\n",
      "((3, 2), {})\n",
      "((3, 3), {})\n",
      "((3, 4), {})\n",
      "((3, 5), {'set_block': False, 'blockcircle_number': 5, 'set_blockcircle_color': 'yellow'})\n",
      "((3, 6), {})\n",
      "((4, 0), {'set_block': True, 'set_blockcolor': 'blue'})\n",
      "((4, 1), {})\n",
      "((4, 2), {})\n",
      "((4, 3), {})\n",
      "((4, 4), {'set_block': True, 'set_blockcolor': 'red'})\n",
      "((4, 5), {})\n",
      "((4, 6), {})\n",
      "((5, 0), {})\n",
      "((5, 1), {'set_block': True, 'blockcircle_number': 6, 'set_blockcircle_color': 'green', 'set_blockcolor': 'black'})\n",
      "((5, 2), {})\n",
      "((5, 3), {'set_block': False, 'blockcircle_number': 7, 'set_blockcircle_color': 'red'})\n",
      "((5, 4), {})\n",
      "((5, 5), {'set_block': False, 'blockcircle_number': 8, 'set_blockcircle_color': 'blue'})\n",
      "((5, 6), {})\n",
      "((6, 0), {})\n",
      "((6, 1), {})\n",
      "((6, 2), {'set_block': True, 'set_blockcolor': 'green'})\n",
      "((6, 3), {})\n",
      "((6, 4), {})\n",
      "((6, 5), {})\n",
      "((6, 6), {'set_block': True, 'set_blockcolor': 'red'})\n"
     ]
    }
   ],
   "source": [
    "count = 0\n",
    "for g in Graph.nodes(data=True):\n",
    "    print(g)\n",
    "#     try:\n",
    "#         if g[1]['set_block']:\n",
    "#             count += 1\n",
    "#     except:\n",
    "#         pass\n",
    "# count"
   ]
  },
  {
   "cell_type": "code",
   "execution_count": 18,
   "metadata": {},
   "outputs": [],
   "source": [
    "import random\n",
    "a = random.sample(blocks_color, 8)"
   ]
  },
  {
   "cell_type": "code",
   "execution_count": 19,
   "metadata": {},
   "outputs": [
    {
     "data": {
      "text/plain": [
       "['yellow', 'blue', 'green', 'red', 'red', 'black', 'green', 'yellow']"
      ]
     },
     "execution_count": 19,
     "metadata": {},
     "output_type": "execute_result"
    }
   ],
   "source": [
    "a"
   ]
  },
  {
   "cell_type": "code",
   "execution_count": null,
   "metadata": {},
   "outputs": [],
   "source": []
  },
  {
   "cell_type": "code",
   "execution_count": 11,
   "metadata": {},
   "outputs": [],
   "source": [
    "from pulp import *\n",
    "import networkx as nx\n",
    "g = nx.fast_gnp_random_graph(8, 0.26, 1).to_directed()\n",
    "# source, sink = 0, 2 # 始点, 終点\n",
    "# r = list(enumerate(g.edges()))\n",
    "# m = LpProblem() # 数理モデル\n",
    "# x = [LpVariable('x%d'%k, lowBound=0, upBound=1) for k, (i, j) in r] # 変数(路に入るかどうか)\n",
    "# m += lpSum(x) # 目的関数\n",
    "# for nd in g.nodes():\n",
    "#     m += lpSum(x[k] for k, (i, j) in r if i == nd) == lpSum(x[k] for k, (i, j) in r if j == nd) + {source:1, sink:-1}.get(nd, 0) # 制約\n",
    "# #     print(m)\n",
    "# m.solve()\n",
    "# print([(i, j) for k, (i, j) in r if value(x[k]) > 0.5])"
   ]
  },
  {
   "cell_type": "code",
   "execution_count": 30,
   "metadata": {},
   "outputs": [
    {
     "ename": "KeyError",
     "evalue": "'set_block'",
     "output_type": "error",
     "traceback": [
      "\u001b[0;31m--------------------------------------------------------------\u001b[0m",
      "\u001b[0;31mKeyError\u001b[0m                     Traceback (most recent call last)",
      "\u001b[0;32m<ipython-input-30-6947ee71d75b>\u001b[0m in \u001b[0;36m<module>\u001b[0;34m()\u001b[0m\n\u001b[0;32m----> 1\u001b[0;31m \u001b[0mGraph\u001b[0m\u001b[0;34m.\u001b[0m\u001b[0mnodes\u001b[0m\u001b[0;34m[\u001b[0m\u001b[0;34m'set_block'\u001b[0m\u001b[0;34m]\u001b[0m\u001b[0;34m\u001b[0m\u001b[0m\n\u001b[0m",
      "\u001b[0;32m~/.pyenv/versions/anaconda3-5.2.0/lib/python3.6/site-packages/networkx/classes/reportviews.py\u001b[0m in \u001b[0;36m__getitem__\u001b[0;34m(self, n)\u001b[0m\n\u001b[1;32m    176\u001b[0m \u001b[0;34m\u001b[0m\u001b[0m\n\u001b[1;32m    177\u001b[0m     \u001b[0;32mdef\u001b[0m \u001b[0m__getitem__\u001b[0m\u001b[0;34m(\u001b[0m\u001b[0mself\u001b[0m\u001b[0;34m,\u001b[0m \u001b[0mn\u001b[0m\u001b[0;34m)\u001b[0m\u001b[0;34m:\u001b[0m\u001b[0;34m\u001b[0m\u001b[0m\n\u001b[0;32m--> 178\u001b[0;31m         \u001b[0;32mreturn\u001b[0m \u001b[0mself\u001b[0m\u001b[0;34m.\u001b[0m\u001b[0m_nodes\u001b[0m\u001b[0;34m[\u001b[0m\u001b[0mn\u001b[0m\u001b[0;34m]\u001b[0m\u001b[0;34m\u001b[0m\u001b[0m\n\u001b[0m\u001b[1;32m    179\u001b[0m \u001b[0;34m\u001b[0m\u001b[0m\n\u001b[1;32m    180\u001b[0m     \u001b[0;31m# Set methods\u001b[0m\u001b[0;34m\u001b[0m\u001b[0;34m\u001b[0m\u001b[0m\n",
      "\u001b[0;31mKeyError\u001b[0m: 'set_block'"
     ]
    }
   ],
   "source": [
    "Graph.nodes['set_block']"
   ]
  },
  {
   "cell_type": "code",
   "execution_count": 15,
   "metadata": {},
   "outputs": [
    {
     "data": {
      "text/plain": [
       "NoName:\n",
       "MINIMIZE\n",
       "1*x0 + 1*x1 + 1*x10 + 1*x11 + 1*x12 + 1*x13 + 1*x2 + 1*x3 + 1*x4 + 1*x5 + 1*x6 + 1*x7 + 1*x8 + 1*x9 + 0\n",
       "SUBJECT TO\n",
       "_C1: x0 - x1 = 1\n",
       "\n",
       "_C2: - x0 + x1 - x11 - x13 + x2 + x3 + x4 - x8 = 0\n",
       "\n",
       "_C3: x5 - x9 = -1\n",
       "\n",
       "_C4: - x10 - x12 + x6 + x7 = 0\n",
       "\n",
       "_C5: - x2 + x8 = 0\n",
       "\n",
       "_C6: x10 - x5 - x6 + x9 = 0\n",
       "\n",
       "_C7: x11 + x12 - x3 - x7 = 0\n",
       "\n",
       "_C8: x13 - x4 = 0\n",
       "\n",
       "VARIABLES\n",
       "x0 <= 1 Continuous\n",
       "x1 <= 1 Continuous\n",
       "x10 <= 1 Continuous\n",
       "x11 <= 1 Continuous\n",
       "x12 <= 1 Continuous\n",
       "x13 <= 1 Continuous\n",
       "x2 <= 1 Continuous\n",
       "x3 <= 1 Continuous\n",
       "x4 <= 1 Continuous\n",
       "x5 <= 1 Continuous\n",
       "x6 <= 1 Continuous\n",
       "x7 <= 1 Continuous\n",
       "x8 <= 1 Continuous\n",
       "x9 <= 1 Continuous"
      ]
     },
     "execution_count": 15,
     "metadata": {},
     "output_type": "execute_result"
    }
   ],
   "source": []
  },
  {
   "cell_type": "code",
   "execution_count": null,
   "metadata": {},
   "outputs": [],
   "source": []
  }
 ],
 "metadata": {
  "kernelspec": {
   "display_name": "Python 3",
   "language": "python",
   "name": "python3"
  },
  "language_info": {
   "codemirror_mode": {
    "name": "ipython",
    "version": 3
   },
   "file_extension": ".py",
   "mimetype": "text/x-python",
   "name": "python",
   "nbconvert_exporter": "python",
   "pygments_lexer": "ipython3",
   "version": "3.6.5"
  }
 },
 "nbformat": 4,
 "nbformat_minor": 2
}
